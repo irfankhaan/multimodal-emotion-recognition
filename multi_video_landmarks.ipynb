{
 "cells": [
  {
   "cell_type": "code",
   "execution_count": 5,
   "metadata": {},
   "outputs": [],
   "source": [
    "import numpy as np\r\n",
    "import pandas as pd\r\n",
    "import matplotlib.pyplot as plt\r\n",
    "import seaborn as sns\r\n",
    "import os\r\n",
    "import cv2\r\n",
    "import dlib\r\n",
    "%matplotlib inline\r\n",
    "from scipy.spatial.distance import pdist"
   ]
  },
  {
   "cell_type": "code",
   "execution_count": 1,
   "metadata": {},
   "outputs": [],
   "source": [
    "from matplotlib.cm import get_cmap\r\n",
    "from matplotlib.axes import Axes"
   ]
  },
  {
   "cell_type": "code",
   "execution_count": null,
   "metadata": {},
   "outputs": [],
   "source": [
    "def landmarks_to_csv(video_file, directory):\r\n",
    "    root = directory + video_file\r\n",
    "\r\n",
    "    files = []\r\n",
    "    # r=root, d=directories, f = files\r\n",
    "    for r, d, f in os.walk(root):\r\n",
    "        for file in f:\r\n",
    "            files.append(os.path.join(r, file))\r\n",
    "    files.sort(key=lambda f: int(''.join(filter(str.isdigit, f))))\r\n",
    "\r\n",
    "    frame_data = {}\r\n",
    "    index = 0\r\n",
    "    for file in files:\r\n",
    "        img = cv2.imread(file)\r\n",
    "        img = cv2.cvtColor(img, cv2.COLOR_BGR2RGB)\r\n",
    "        li = []\r\n",
    "        arr = []\r\n",
    "        detector = dlib.get_frontal_face_detector()\r\n",
    "        predictor = dlib.shape_predictor(\"shape_predictor_68_face_landmarks.dat\")\r\n",
    "        #plt.figure(figsize=(10,8))\r\n",
    "        faces = detector(img)\r\n",
    "\r\n",
    "        if bool(faces) == True:\r\n",
    "            for face in faces:\r\n",
    "                x1 = face.left()\r\n",
    "                y1 = face.top()\r\n",
    "                x2 = face.right()\r\n",
    "                y2 = face.bottom()\r\n",
    "                \r\n",
    "                landmarks = predictor(img,face)\r\n",
    "                \r\n",
    "                for n in range(0,68):\r\n",
    "                    x = landmarks.part(n).x\r\n",
    "                    y = landmarks.part(n).y\r\n",
    "                    cv2.circle(img,(x,y),4,(255,0,0),1)\r\n",
    "                    #print(x,y)\r\n",
    "                    li = [x,y]\r\n",
    "                    arr.append(li)\r\n",
    "                    cv2.rectangle(img,(x1,y1),(x2,y2),(0,255,0),3)\r\n",
    "\r\n",
    "            #plt.imshow(img)\r\n",
    "            #plt.show()\r\n",
    "            frame_data['frame'+str(index)] = pdist(arr)\r\n",
    "            index += 1\r\n",
    "        \r\n",
    "        else:\r\n",
    "            index += 1\r\n",
    "            continue\r\n",
    "    return frame_data"
   ]
  },
  {
   "cell_type": "code",
   "execution_count": null,
   "metadata": {},
   "outputs": [],
   "source": [
    "directory = \"D:/College Work/Internship/IIIT-A/Code/FacialDataFrame/\"\r\n",
    "# r=root, d=directories, f = files\r\n",
    "for r, d, f in os.walk(directory):\r\n",
    "    for video in d:\r\n",
    "        video_file = video + '/'\r\n",
    "        import pandas as pd\r\n",
    "\r\n",
    "        frames = pd.DataFrame.from_dict(landmarks_to_csv(video_file, directory), orient='index')\r\n",
    "        frames.to_csv('Final/' + video + '.csv')"
   ]
  },
  {
   "cell_type": "code",
   "execution_count": null,
   "metadata": {},
   "outputs": [],
   "source": [
    "import pandas as pd\r\n",
    "root = \"D:/College Work/Internship/IIIT-A/Code/Temp/\""
   ]
  },
  {
   "cell_type": "code",
   "execution_count": null,
   "metadata": {},
   "outputs": [],
   "source": [
    "files = []\r\n",
    "# r=root, d=directories, f = files\r\n",
    "for r, d, f in os.walk(root):\r\n",
    "    for file in f:\r\n",
    "        files.append(os.path.join(r, file))"
   ]
  },
  {
   "cell_type": "code",
   "execution_count": null,
   "metadata": {},
   "outputs": [],
   "source": [
    "for file in files:\r\n",
    "    frames = pd.read_csv(file, index_col=0, usecols = [i for i in range(2279)])\r\n",
    "    frames.to_csv('Corrected/' + str(file[44:-4]) + '.csv')"
   ]
  },
  {
   "cell_type": "code",
   "execution_count": null,
   "metadata": {},
   "outputs": [],
   "source": [
    "file"
   ]
  },
  {
   "cell_type": "code",
   "execution_count": null,
   "metadata": {},
   "outputs": [],
   "source": [
    "str(files[0][44:-4])"
   ]
  }
 ],
 "metadata": {
  "interpreter": {
   "hash": "abc43c0dfd3be6e75395e609b68ff1d444fe1ba7bc598f9a4d8e0d29e2c56ec5"
  },
  "kernelspec": {
   "display_name": "Python 3.9.5 64-bit ('tensorflow-gpu': conda)",
   "name": "python3"
  },
  "language_info": {
   "codemirror_mode": {
    "name": "ipython",
    "version": 3
   },
   "file_extension": ".py",
   "mimetype": "text/x-python",
   "name": "python",
   "nbconvert_exporter": "python",
   "pygments_lexer": "ipython3",
   "version": "3.9.5"
  },
  "orig_nbformat": 4
 },
 "nbformat": 4,
 "nbformat_minor": 2
}
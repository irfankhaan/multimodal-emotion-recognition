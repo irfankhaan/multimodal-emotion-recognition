{
 "cells": [
  {
   "cell_type": "code",
   "execution_count": 3,
   "metadata": {},
   "outputs": [],
   "source": [
    "import numpy as np\r\n",
    "import pandas as pd\r\n",
    "import matplotlib.pyplot as plt\r\n",
    "import seaborn as sns\r\n",
    "import tensorflow as tf\r\n",
    "%matplotlib inline\r\n",
    "import os\r\n",
    "import keras"
   ]
  },
  {
   "cell_type": "code",
   "execution_count": 4,
   "metadata": {},
   "outputs": [
    {
     "name": "stdout",
     "output_type": "stream",
     "text": [
      "Device mapping:\n",
      "/job:localhost/replica:0/task:0/device:GPU:0 -> device: 0, name: NVIDIA GeForce GTX 1060, pci bus id: 0000:01:00.0, compute capability: 6.1\n",
      "\n"
     ]
    }
   ],
   "source": [
    "sess = tf.compat.v1.Session(config=tf.compat.v1.ConfigProto(log_device_placement=True))"
   ]
  },
  {
   "cell_type": "code",
   "execution_count": 5,
   "metadata": {},
   "outputs": [
    {
     "name": "stdout",
     "output_type": "stream",
     "text": [
      "2.5.0\n",
      "True\n",
      "[PhysicalDevice(name='/physical_device:GPU:0', device_type='GPU')]\n"
     ]
    }
   ],
   "source": [
    "print(tf.__version__)\n",
    "print(tf.test.is_built_with_cuda())\n",
    "print(tf.config.list_physical_devices('GPU'))"
   ]
  },
  {
   "cell_type": "code",
   "execution_count": 6,
   "metadata": {},
   "outputs": [],
   "source": [
    "path = 'emotional database/motion capture/'\n",
    "files = []\n",
    "for r, d, f in os.walk(path):\n",
    "    for file in f:\n",
    "        if '.txt' in file:\n",
    "            files.append(os.path.join(r, file))"
   ]
  },
  {
   "cell_type": "code",
   "execution_count": 7,
   "metadata": {},
   "outputs": [
    {
     "name": "stdout",
     "output_type": "stream",
     "text": [
      "[name: \"/device:CPU:0\"\n",
      "device_type: \"CPU\"\n",
      "memory_limit: 268435456\n",
      "locality {\n",
      "}\n",
      "incarnation: 16246519447356585223\n",
      ", name: \"/device:GPU:0\"\n",
      "device_type: \"GPU\"\n",
      "memory_limit: 4848943104\n",
      "locality {\n",
      "  bus_id: 1\n",
      "  links {\n",
      "  }\n",
      "}\n",
      "incarnation: 12223682259571449019\n",
      "physical_device_desc: \"device: 0, name: NVIDIA GeForce GTX 1060, pci bus id: 0000:01:00.0, compute capability: 6.1\"\n",
      "]\n"
     ]
    }
   ],
   "source": [
    "from tensorflow.python.client import device_lib\n",
    "print(device_lib.list_local_devices())"
   ]
  },
  {
   "cell_type": "code",
   "execution_count": 8,
   "metadata": {},
   "outputs": [],
   "source": [
    "descriptors = pd.read_csv('Descriptors.csv', index_col=0)"
   ]
  },
  {
   "cell_type": "code",
   "execution_count": 9,
   "metadata": {},
   "outputs": [],
   "source": [
    "def load_file(file):\n",
    "    temp_df = pd.read_csv(file, sep=';')\n",
    "    textfile = file[34:]\n",
    "    output_value = descriptors.loc[descriptors['text_file']==textfile]['output'][:1].values[0]\n",
    "    gender = descriptors.loc[descriptors['text_file']==textfile]['gender'][:1].values[0]\n",
    "    if gender == 'F':\n",
    "        temp_df['gender'] = 1\n",
    "    else:\n",
    "        temp_df['gender'] = 0\n",
    "    temp_df.drop(['Unnamed: 152'], axis=1, inplace=True)\n",
    "    return temp_df.values, output_value"
   ]
  },
  {
   "cell_type": "code",
   "execution_count": 10,
   "metadata": {},
   "outputs": [],
   "source": [
    "shapes = []\n",
    "Y = []\n",
    "for name in files:\n",
    "    data, t = load_file(name)\n",
    "    shapes.append(data.shape[0])\n",
    "    Y.append(t)"
   ]
  },
  {
   "cell_type": "code",
   "execution_count": 11,
   "metadata": {},
   "outputs": [],
   "source": [
    "index = 0 \n",
    "for element in Y:\n",
    "    if element == 'Ne':\n",
    "        Y[index] = 0\n",
    "    elif element == 'Sa':\n",
    "        Y[index] = 1\n",
    "    elif element == 'Su':\n",
    "        Y[index] = 2\n",
    "    elif element == 'Fe':\n",
    "        Y[index] = 3\n",
    "    elif element == 'An':\n",
    "        Y[index] = 4\n",
    "    elif element == 'Di':\n",
    "        Y[index] = 5\n",
    "    elif element == 'Ha':\n",
    "        Y[index] = 6\n",
    "    index += 1"
   ]
  },
  {
   "cell_type": "code",
   "execution_count": 12,
   "metadata": {},
   "outputs": [
    {
     "name": "stdout",
     "output_type": "stream",
     "text": [
      "1758\n"
     ]
    }
   ],
   "source": [
    "from tensorflow.keras.utils import to_categorical\n",
    "\n",
    "maxlen = max(shapes)\n",
    "print(maxlen)"
   ]
  },
  {
   "cell_type": "code",
   "execution_count": 13,
   "metadata": {},
   "outputs": [],
   "source": [
    "def load_group(filenames, prefix=''):\n",
    "    loaded = list()\n",
    "    for name in filenames:\n",
    "        data, temp = load_file(name)\n",
    "        zeros_data = np.zeros((max(shapes)-data.shape[0], 153))\n",
    "        data = np.concatenate((zeros_data, data), axis=0)\n",
    "        loaded.append(data)\n",
    "        shapes.append(data.shape[0])\n",
    "    loaded = np.stack(loaded)\n",
    "    return loaded"
   ]
  },
  {
   "cell_type": "code",
   "execution_count": 14,
   "metadata": {},
   "outputs": [
    {
     "name": "stdout",
     "output_type": "stream",
     "text": [
      "(63, 1758, 153) (63, 7)\n"
     ]
    }
   ],
   "source": [
    "X = load_group(files)\n",
    "\n",
    "Y = np.asarray(Y).reshape((63,1))\n",
    "Y = to_categorical(Y)\n",
    "print(X.shape, Y.shape)"
   ]
  },
  {
   "cell_type": "code",
   "execution_count": 15,
   "metadata": {},
   "outputs": [],
   "source": [
    "from sklearn.model_selection import train_test_split\r\n",
    "X_train, X_test, Y_train, Y_test = train_test_split(X,Y, test_size = 0.1, random_state = 42)"
   ]
  },
  {
   "cell_type": "code",
   "execution_count": 17,
   "metadata": {},
   "outputs": [],
   "source": [
    "from tensorflow.keras.models import Sequential\r\n",
    "from tensorflow.keras.layers import Dense, Dropout, LSTM\r\n",
    "from functools import partial"
   ]
  },
  {
   "cell_type": "code",
   "execution_count": 18,
   "metadata": {},
   "outputs": [],
   "source": [
    "def evaluate_model(trainX, trainy, testX, testy):\r\n",
    "    verbose = 1\r\n",
    "    epochs = 100\r\n",
    "    n_timesteps, n_features, n_outputs = trainX.shape[1], trainX.shape[2], trainy.shape[1]\r\n",
    "    model = Sequential()\r\n",
    "    model.add(LSTM(32, input_shape=(n_timesteps, n_features)))\r\n",
    "    #model.add(Dropout(0.5))\r\n",
    "    model.add(Dense(16, activation='relu'))\r\n",
    "    model.add(Dense(n_outputs, activation='softmax'))\r\n",
    "    model.compile(loss='categorical_crossentropy', optimizer = 'adam', metrics = ['accuracy'])\r\n",
    "    model.fit(trainX, trainy, epochs=epochs, verbose=verbose)\r\n",
    "    _, accuracy = model.evaluate(testX, testy, verbose=verbose)\r\n",
    "    return accuracy"
   ]
  },
  {
   "cell_type": "code",
   "execution_count": 19,
   "metadata": {},
   "outputs": [
    {
     "name": "stdout",
     "output_type": "stream",
     "text": [
      "Epoch 1/100\n",
      "2/2 [==============================] - 15s 84ms/step - loss: 2.0222 - accuracy: 0.1607\n",
      "Epoch 2/100\n",
      "2/2 [==============================] - 0s 68ms/step - loss: 2.0156 - accuracy: 0.1607\n",
      "Epoch 3/100\n",
      "2/2 [==============================] - 0s 71ms/step - loss: 2.0093 - accuracy: 0.1607\n",
      "Epoch 4/100\n",
      "2/2 [==============================] - 0s 69ms/step - loss: 2.0039 - accuracy: 0.1607\n",
      "Epoch 5/100\n",
      "2/2 [==============================] - 0s 68ms/step - loss: 1.9998 - accuracy: 0.1607\n",
      "Epoch 6/100\n",
      "2/2 [==============================] - 0s 71ms/step - loss: 1.9945 - accuracy: 0.1607\n",
      "Epoch 7/100\n",
      "2/2 [==============================] - 0s 69ms/step - loss: 1.9905 - accuracy: 0.1607\n",
      "Epoch 8/100\n",
      "2/2 [==============================] - 0s 69ms/step - loss: 1.9858 - accuracy: 0.1607\n",
      "Epoch 9/100\n",
      "2/2 [==============================] - 0s 74ms/step - loss: 1.9817 - accuracy: 0.1607\n",
      "Epoch 10/100\n",
      "2/2 [==============================] - 0s 79ms/step - loss: 1.9780 - accuracy: 0.1607\n",
      "Epoch 11/100\n",
      "2/2 [==============================] - 0s 73ms/step - loss: 1.9742 - accuracy: 0.1607\n",
      "Epoch 12/100\n",
      "2/2 [==============================] - 0s 75ms/step - loss: 1.9686 - accuracy: 0.1607\n",
      "Epoch 13/100\n",
      "2/2 [==============================] - 0s 72ms/step - loss: 1.9664 - accuracy: 0.1607\n",
      "Epoch 14/100\n",
      "2/2 [==============================] - 0s 73ms/step - loss: 1.9630 - accuracy: 0.1607\n",
      "Epoch 15/100\n",
      "2/2 [==============================] - 0s 76ms/step - loss: 1.9597 - accuracy: 0.1607\n",
      "Epoch 16/100\n",
      "2/2 [==============================] - 0s 71ms/step - loss: 1.9552 - accuracy: 0.1607\n",
      "Epoch 17/100\n",
      "2/2 [==============================] - 0s 72ms/step - loss: 1.9524 - accuracy: 0.1607\n",
      "Epoch 18/100\n",
      "2/2 [==============================] - 0s 78ms/step - loss: 1.9513 - accuracy: 0.1607\n",
      "Epoch 19/100\n",
      "2/2 [==============================] - 0s 72ms/step - loss: 1.9469 - accuracy: 0.1607\n",
      "Epoch 20/100\n",
      "2/2 [==============================] - 0s 77ms/step - loss: 1.9435 - accuracy: 0.1607\n",
      "Epoch 21/100\n",
      "2/2 [==============================] - 0s 75ms/step - loss: 1.9407 - accuracy: 0.1607\n",
      "Epoch 22/100\n",
      "2/2 [==============================] - 0s 69ms/step - loss: 1.9370 - accuracy: 0.1607\n",
      "Epoch 23/100\n",
      "2/2 [==============================] - 0s 71ms/step - loss: 1.9346 - accuracy: 0.1607\n",
      "Epoch 24/100\n",
      "2/2 [==============================] - 0s 71ms/step - loss: 1.9355 - accuracy: 0.1607\n",
      "Epoch 25/100\n",
      "2/2 [==============================] - 0s 68ms/step - loss: 1.9308 - accuracy: 0.1607\n",
      "Epoch 26/100\n",
      "2/2 [==============================] - 0s 67ms/step - loss: 1.9341 - accuracy: 0.1607\n",
      "Epoch 27/100\n",
      "2/2 [==============================] - 0s 70ms/step - loss: 1.9352 - accuracy: 0.1607\n",
      "Epoch 28/100\n",
      "2/2 [==============================] - 0s 78ms/step - loss: 1.9317 - accuracy: 0.1607\n",
      "Epoch 29/100\n",
      "2/2 [==============================] - 0s 68ms/step - loss: 1.9300 - accuracy: 0.1607\n",
      "Epoch 30/100\n",
      "2/2 [==============================] - 0s 72ms/step - loss: 1.9308 - accuracy: 0.1607\n",
      "Epoch 31/100\n",
      "2/2 [==============================] - 0s 76ms/step - loss: 1.9275 - accuracy: 0.1786\n",
      "Epoch 32/100\n",
      "2/2 [==============================] - 0s 72ms/step - loss: 1.9247 - accuracy: 0.1964\n",
      "Epoch 33/100\n",
      "2/2 [==============================] - 0s 73ms/step - loss: 1.9240 - accuracy: 0.1964\n",
      "Epoch 34/100\n",
      "2/2 [==============================] - 0s 70ms/step - loss: 1.9234 - accuracy: 0.1786\n",
      "Epoch 35/100\n",
      "2/2 [==============================] - 0s 71ms/step - loss: 1.9227 - accuracy: 0.2321\n",
      "Epoch 36/100\n",
      "2/2 [==============================] - 0s 72ms/step - loss: 1.9227 - accuracy: 0.2321\n",
      "Epoch 37/100\n",
      "2/2 [==============================] - 0s 67ms/step - loss: 1.9208 - accuracy: 0.2143\n",
      "Epoch 38/100\n",
      "2/2 [==============================] - 0s 72ms/step - loss: 1.9199 - accuracy: 0.1964\n",
      "Epoch 39/100\n",
      "2/2 [==============================] - 0s 72ms/step - loss: 1.9194 - accuracy: 0.1964\n",
      "Epoch 40/100\n",
      "2/2 [==============================] - 0s 79ms/step - loss: 1.9215 - accuracy: 0.1964\n",
      "Epoch 41/100\n",
      "2/2 [==============================] - 0s 72ms/step - loss: 1.9178 - accuracy: 0.1964\n",
      "Epoch 42/100\n",
      "2/2 [==============================] - 0s 73ms/step - loss: 1.9167 - accuracy: 0.2143\n",
      "Epoch 43/100\n",
      "2/2 [==============================] - 0s 72ms/step - loss: 1.9155 - accuracy: 0.2321\n",
      "Epoch 44/100\n",
      "2/2 [==============================] - 0s 82ms/step - loss: 1.9154 - accuracy: 0.2321\n",
      "Epoch 45/100\n",
      "2/2 [==============================] - 0s 75ms/step - loss: 1.9147 - accuracy: 0.2321\n",
      "Epoch 46/100\n",
      "2/2 [==============================] - 0s 70ms/step - loss: 1.9124 - accuracy: 0.2321\n",
      "Epoch 47/100\n",
      "2/2 [==============================] - 0s 82ms/step - loss: 1.9107 - accuracy: 0.2321\n",
      "Epoch 48/100\n",
      "2/2 [==============================] - 0s 75ms/step - loss: 1.9097 - accuracy: 0.2321\n",
      "Epoch 49/100\n",
      "2/2 [==============================] - 0s 70ms/step - loss: 1.9088 - accuracy: 0.2321\n",
      "Epoch 50/100\n",
      "2/2 [==============================] - 0s 77ms/step - loss: 1.9082 - accuracy: 0.2321\n",
      "Epoch 51/100\n",
      "2/2 [==============================] - 0s 76ms/step - loss: 1.9074 - accuracy: 0.2321\n",
      "Epoch 52/100\n",
      "2/2 [==============================] - 0s 73ms/step - loss: 1.9065 - accuracy: 0.2321\n",
      "Epoch 53/100\n",
      "2/2 [==============================] - 0s 75ms/step - loss: 1.9070 - accuracy: 0.2143\n",
      "Epoch 54/100\n",
      "2/2 [==============================] - 0s 74ms/step - loss: 1.9053 - accuracy: 0.2321\n",
      "Epoch 55/100\n",
      "2/2 [==============================] - 0s 67ms/step - loss: 1.9048 - accuracy: 0.2321\n",
      "Epoch 56/100\n",
      "2/2 [==============================] - 0s 71ms/step - loss: 1.9042 - accuracy: 0.2321\n",
      "Epoch 57/100\n",
      "2/2 [==============================] - 0s 70ms/step - loss: 1.9037 - accuracy: 0.2321\n",
      "Epoch 58/100\n",
      "2/2 [==============================] - 0s 76ms/step - loss: 1.9029 - accuracy: 0.2321\n",
      "Epoch 59/100\n",
      "2/2 [==============================] - 0s 74ms/step - loss: 1.9024 - accuracy: 0.2321\n",
      "Epoch 60/100\n",
      "2/2 [==============================] - 0s 70ms/step - loss: 1.9019 - accuracy: 0.2321\n",
      "Epoch 61/100\n",
      "2/2 [==============================] - 0s 72ms/step - loss: 1.9011 - accuracy: 0.2321\n",
      "Epoch 62/100\n",
      "2/2 [==============================] - 0s 67ms/step - loss: 1.9006 - accuracy: 0.2321\n",
      "Epoch 63/100\n",
      "2/2 [==============================] - 0s 70ms/step - loss: 1.9001 - accuracy: 0.2321\n",
      "Epoch 64/100\n",
      "2/2 [==============================] - 0s 80ms/step - loss: 1.8995 - accuracy: 0.2321\n",
      "Epoch 65/100\n",
      "2/2 [==============================] - 0s 78ms/step - loss: 1.8988 - accuracy: 0.2321\n",
      "Epoch 66/100\n",
      "2/2 [==============================] - 0s 71ms/step - loss: 1.8983 - accuracy: 0.1786\n",
      "Epoch 67/100\n",
      "2/2 [==============================] - 0s 75ms/step - loss: 1.8977 - accuracy: 0.1964\n",
      "Epoch 68/100\n",
      "2/2 [==============================] - 0s 73ms/step - loss: 1.8971 - accuracy: 0.1964\n",
      "Epoch 69/100\n",
      "2/2 [==============================] - 0s 73ms/step - loss: 1.8963 - accuracy: 0.1964\n",
      "Epoch 70/100\n",
      "2/2 [==============================] - 0s 68ms/step - loss: 1.8955 - accuracy: 0.1964\n",
      "Epoch 71/100\n",
      "2/2 [==============================] - 0s 71ms/step - loss: 1.8964 - accuracy: 0.1964\n",
      "Epoch 72/100\n",
      "2/2 [==============================] - 0s 70ms/step - loss: 1.8935 - accuracy: 0.1964\n",
      "Epoch 73/100\n",
      "2/2 [==============================] - 0s 75ms/step - loss: 1.8931 - accuracy: 0.1964\n",
      "Epoch 74/100\n",
      "2/2 [==============================] - 0s 71ms/step - loss: 1.8921 - accuracy: 0.1964\n",
      "Epoch 75/100\n",
      "2/2 [==============================] - 0s 67ms/step - loss: 1.8915 - accuracy: 0.1964\n",
      "Epoch 76/100\n",
      "2/2 [==============================] - 0s 69ms/step - loss: 1.8905 - accuracy: 0.1964\n",
      "Epoch 77/100\n",
      "2/2 [==============================] - 0s 71ms/step - loss: 1.8897 - accuracy: 0.1964\n",
      "Epoch 78/100\n",
      "2/2 [==============================] - 0s 68ms/step - loss: 1.8887 - accuracy: 0.1964\n",
      "Epoch 79/100\n",
      "2/2 [==============================] - 0s 70ms/step - loss: 1.8874 - accuracy: 0.1964\n",
      "Epoch 80/100\n",
      "2/2 [==============================] - 0s 72ms/step - loss: 1.8867 - accuracy: 0.1964\n",
      "Epoch 81/100\n",
      "2/2 [==============================] - 0s 68ms/step - loss: 1.8854 - accuracy: 0.1964\n",
      "Epoch 82/100\n",
      "2/2 [==============================] - 0s 71ms/step - loss: 1.8845 - accuracy: 0.1964\n",
      "Epoch 83/100\n",
      "2/2 [==============================] - 0s 82ms/step - loss: 1.8835 - accuracy: 0.1964\n",
      "Epoch 84/100\n",
      "2/2 [==============================] - 0s 73ms/step - loss: 1.8829 - accuracy: 0.1964\n",
      "Epoch 85/100\n",
      "2/2 [==============================] - 0s 70ms/step - loss: 1.8890 - accuracy: 0.1786\n",
      "Epoch 86/100\n",
      "2/2 [==============================] - 0s 71ms/step - loss: 1.8857 - accuracy: 0.1786\n",
      "Epoch 87/100\n",
      "2/2 [==============================] - 0s 73ms/step - loss: 1.8863 - accuracy: 0.1786\n",
      "Epoch 88/100\n",
      "2/2 [==============================] - 0s 65ms/step - loss: 1.9066 - accuracy: 0.1607\n",
      "Epoch 89/100\n",
      "2/2 [==============================] - 0s 70ms/step - loss: 1.9204 - accuracy: 0.1607\n",
      "Epoch 90/100\n",
      "2/2 [==============================] - 0s 75ms/step - loss: 1.9103 - accuracy: 0.2321\n",
      "Epoch 91/100\n",
      "2/2 [==============================] - 0s 73ms/step - loss: 1.9088 - accuracy: 0.2321\n",
      "Epoch 92/100\n",
      "2/2 [==============================] - 0s 68ms/step - loss: 1.9073 - accuracy: 0.2321\n",
      "Epoch 93/100\n",
      "2/2 [==============================] - 0s 69ms/step - loss: 1.8985 - accuracy: 0.2321\n",
      "Epoch 94/100\n",
      "2/2 [==============================] - 0s 69ms/step - loss: 1.9001 - accuracy: 0.2321\n",
      "Epoch 95/100\n",
      "2/2 [==============================] - 0s 64ms/step - loss: 1.8947 - accuracy: 0.2321\n",
      "Epoch 96/100\n",
      "2/2 [==============================] - 0s 72ms/step - loss: 1.8979 - accuracy: 0.2143\n",
      "Epoch 97/100\n",
      "2/2 [==============================] - 0s 69ms/step - loss: 1.8946 - accuracy: 0.2143\n",
      "Epoch 98/100\n",
      "2/2 [==============================] - 0s 64ms/step - loss: 1.8973 - accuracy: 0.2321\n",
      "Epoch 99/100\n",
      "2/2 [==============================] - 0s 63ms/step - loss: 1.8964 - accuracy: 0.2321\n",
      "Epoch 100/100\n",
      "2/2 [==============================] - 0s 64ms/step - loss: 1.8958 - accuracy: 0.1964\n",
      "1/1 [==============================] - 1s 532ms/step - loss: 2.1595 - accuracy: 0.0000e+00\n"
     ]
    },
    {
     "data": {
      "text/plain": [
       "0.0"
      ]
     },
     "execution_count": 19,
     "metadata": {},
     "output_type": "execute_result"
    }
   ],
   "source": [
    "evaluate_model(X_train, Y_train, X_test, Y_test)"
   ]
  },
  {
   "cell_type": "code",
   "execution_count": 17,
   "metadata": {},
   "outputs": [],
   "source": [
    "df = pd.DataFrame()\r\n",
    "for file in files:\r\n",
    "    temp_df = pd.read_csv(file, sep=';')\r\n",
    "    textfile = file[34:]\r\n",
    "    output_value = descriptors.loc[descriptors['text_file']==textfile]['output'][:1].values[0]\r\n",
    "    video_name = descriptors.loc[descriptors['text_file']==textfile]['video_name'][:1].values[0]\r\n",
    "    gender = descriptors.loc[descriptors['text_file']==textfile]['gender'][:1].values[0]\r\n",
    "    temp_df['textfile'] = textfile\r\n",
    "    temp_df['output'] = output_value\r\n",
    "    temp_df['video_name'] = video_name\r\n",
    "    temp_df['gender'] = gender\r\n",
    "    df = df.append(temp_df, sort=False)"
   ]
  },
  {
   "cell_type": "code",
   "execution_count": 18,
   "metadata": {},
   "outputs": [],
   "source": [
    "df.drop(columns=['Unnamed: 152'], inplace=True)"
   ]
  },
  {
   "cell_type": "code",
   "execution_count": 19,
   "metadata": {},
   "outputs": [],
   "source": [
    "df.to_csv('Motion_capture.csv')"
   ]
  },
  {
   "cell_type": "code",
   "execution_count": null,
   "metadata": {},
   "outputs": [],
   "source": []
  }
 ],
 "metadata": {
  "interpreter": {
   "hash": "abc43c0dfd3be6e75395e609b68ff1d444fe1ba7bc598f9a4d8e0d29e2c56ec5"
  },
  "kernelspec": {
   "display_name": "Python 3.9.5 64-bit ('tensorflow-gpu': conda)",
   "name": "python3"
  },
  "language_info": {
   "name": "python",
   "version": ""
  }
 },
 "nbformat": 4,
 "nbformat_minor": 2
}
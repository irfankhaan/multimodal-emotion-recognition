{
 "cells": [
  {
   "cell_type": "code",
   "execution_count": 1,
   "metadata": {},
   "outputs": [],
   "source": [
    "import numpy as np\r\n",
    "import pandas as pd\r\n",
    "import matplotlib.pyplot as plt\r\n",
    "import seaborn as sns\r\n",
    "import os\r\n",
    "import cv2\r\n",
    "%matplotlib inline"
   ]
  },
  {
   "cell_type": "code",
   "execution_count": null,
   "metadata": {},
   "outputs": [],
   "source": [
    "path = 'emotional database/videos/'\r\n",
    "files = []\r\n",
    "# r=root, d=directories, f = files\r\n",
    "for r, d, f in os.walk(path):\r\n",
    "    for file in f:\r\n",
    "        files.append(os.path.join(r, file))"
   ]
  },
  {
   "cell_type": "code",
   "execution_count": null,
   "metadata": {},
   "outputs": [],
   "source": [
    "i = files[0]\r\n",
    "cap = cv2.VideoCapture(i)\r\n",
    "success,image = cap.read()\r\n",
    "print(success)\r\n",
    "name = \"D:\\College Work\\Internship\\IIIT-A\\Code\\image.jpg\"\r\n",
    "lu =[]"
   ]
  },
  {
   "cell_type": "code",
   "execution_count": 5,
   "metadata": {},
   "outputs": [],
   "source": [
    "for i in files:\r\n",
    "    cap = cv2.VideoCapture(i)\r\n",
    "    success,image = cap.read()\r\n",
    "    \r\n",
    "    try:\r\n",
    "        # creating a folder named data \r\n",
    "        if not os.path.exists('D:/College Work/Internship/IIIT-A/Code/FacialDataFrame'):\r\n",
    "            os.makedirs('D:/College Work/Internship/IIIT-A/Code/FacialDataFrame')\r\n",
    "            \r\n",
    "    #if not created then raise error\r\n",
    "    except OSError: \r\n",
    "        print ('Error: Creating directory of data')\r\n",
    "        \r\n",
    "    try:\r\n",
    "        # creating a folder named data \r\n",
    "        if not os.path.exists('D:/College Work/Internship/IIIT-A/Code/FacialDataFrame/' + str(i[26:37])):\r\n",
    "            os.makedirs('D:/College Work/Internship/IIIT-A/Code/FacialDataFrame/' + str(i[26:37]))\r\n",
    "            \r\n",
    "    #if not created then raise error\r\n",
    "    except OSError: \r\n",
    "        print ('Error: Creating directory of data')\r\n",
    "        \r\n",
    "        \r\n",
    "    \r\n",
    "    currentframe = 0\r\n",
    "    while success:       \r\n",
    "        # reading from frame \r\n",
    "        success,frame = cap.read() \r\n",
    "        \r\n",
    "        # if video is still left continue creating images\r\n",
    "        name = 'D:/College Work/Internship/IIIT-A/Code/FacialDataFrame/'+ str(i[26:37]) + '/frame' + str(currentframe) + '.jpg'\r\n",
    "        \r\n",
    "        if success==True:\r\n",
    "            # writing the extracted images \r\n",
    "            cv2.imwrite(name, frame)\r\n",
    "            #lu.append(name) \r\n",
    "        if cv2.waitKey(10) == 27:\r\n",
    "            break\r\n",
    "        \r\n",
    "        currentframe += 1"
   ]
  },
  {
   "cell_type": "code",
   "execution_count": null,
   "metadata": {},
   "outputs": [],
   "source": [
    "print(lu[0])\r\n",
    "print(lu[792])\r\n",
    "print(lu[793])\r\n",
    "print(lu[794])\r\n",
    "print(lu[795])"
   ]
  },
  {
   "cell_type": "code",
   "execution_count": null,
   "metadata": {},
   "outputs": [],
   "source": []
  }
 ],
 "metadata": {
  "interpreter": {
   "hash": "abc43c0dfd3be6e75395e609b68ff1d444fe1ba7bc598f9a4d8e0d29e2c56ec5"
  },
  "kernelspec": {
   "display_name": "Python 3.9.5 64-bit ('tensorflow-gpu': conda)",
   "name": "python3"
  },
  "language_info": {
   "codemirror_mode": {
    "name": "ipython",
    "version": 3
   },
   "file_extension": ".py",
   "mimetype": "text/x-python",
   "name": "python",
   "nbconvert_exporter": "python",
   "pygments_lexer": "ipython3",
   "version": "3.9.5"
  },
  "orig_nbformat": 4
 },
 "nbformat": 4,
 "nbformat_minor": 2
}
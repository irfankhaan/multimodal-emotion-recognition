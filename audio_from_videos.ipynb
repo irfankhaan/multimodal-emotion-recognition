{
 "cells": [
  {
   "cell_type": "code",
   "execution_count": 1,
   "metadata": {},
   "outputs": [],
   "source": [
    "import os\r\n",
    "import moviepy.editor as mp"
   ]
  },
  {
   "cell_type": "code",
   "execution_count": 23,
   "metadata": {},
   "outputs": [],
   "source": [
    "root = \"D:/College Work/Internship/IIIT-A/Code/emotional database/videos/\"\r\n",
    "save = \"D:/College Work/Internship/IIIT-A/Code/Audio/\""
   ]
  },
  {
   "cell_type": "code",
   "execution_count": 3,
   "metadata": {},
   "outputs": [],
   "source": [
    "files = []\r\n",
    "# r=root, d=directories, f = files\r\n",
    "for r, d, f in os.walk(root):\r\n",
    "    for file in f:\r\n",
    "        files.append(file)"
   ]
  },
  {
   "cell_type": "code",
   "execution_count": 4,
   "metadata": {},
   "outputs": [
    {
     "name": "stderr",
     "output_type": "stream",
     "text": [
      "chunk:  17%|█▋        | 102/585 [00:00<00:00, 964.84it/s, now=None]"
     ]
    },
    {
     "name": "stdout",
     "output_type": "stream",
     "text": [
      "MoviePy - Writing audio in D:/College Work/Internship/IIIT-A/Code/Audio/927_0196_01.wav\n"
     ]
    },
    {
     "name": "stderr",
     "output_type": "stream",
     "text": []
    },
    {
     "name": "stdout",
     "output_type": "stream",
     "text": [
      "MoviePy - Done.\n"
     ]
    },
    {
     "name": "stderr",
     "output_type": "stream",
     "text": [
      "chunk:  13%|█▎        | 102/788 [00:00<00:00, 984.40it/s, now=None]"
     ]
    },
    {
     "name": "stdout",
     "output_type": "stream",
     "text": [
      "MoviePy - Writing audio in D:/College Work/Internship/IIIT-A/Code/Audio/927_0197_01.wav\n"
     ]
    },
    {
     "name": "stderr",
     "output_type": "stream",
     "text": []
    },
    {
     "name": "stdout",
     "output_type": "stream",
     "text": [
      "MoviePy - Done.\n"
     ]
    },
    {
     "name": "stderr",
     "output_type": "stream",
     "text": [
      "chunk:   6%|▌         | 48/822 [00:00<00:01, 476.46it/s, now=None]"
     ]
    },
    {
     "name": "stdout",
     "output_type": "stream",
     "text": [
      "MoviePy - Writing audio in D:/College Work/Internship/IIIT-A/Code/Audio/927_0198_01.wav\n"
     ]
    },
    {
     "name": "stderr",
     "output_type": "stream",
     "text": []
    },
    {
     "name": "stdout",
     "output_type": "stream",
     "text": [
      "MoviePy - Done.\n"
     ]
    },
    {
     "name": "stderr",
     "output_type": "stream",
     "text": [
      "chunk:   7%|▋         | 66/1008 [00:00<00:01, 655.09it/s, now=None]"
     ]
    },
    {
     "name": "stdout",
     "output_type": "stream",
     "text": [
      "MoviePy - Writing audio in D:/College Work/Internship/IIIT-A/Code/Audio/927_0199_01.wav\n"
     ]
    },
    {
     "name": "stderr",
     "output_type": "stream",
     "text": []
    },
    {
     "name": "stdout",
     "output_type": "stream",
     "text": [
      "MoviePy - Done.\n"
     ]
    },
    {
     "name": "stderr",
     "output_type": "stream",
     "text": [
      "chunk:  11%|█         | 102/934 [00:00<00:00, 983.38it/s, now=None]"
     ]
    },
    {
     "name": "stdout",
     "output_type": "stream",
     "text": [
      "MoviePy - Writing audio in D:/College Work/Internship/IIIT-A/Code/Audio/927_0200_01.wav\n"
     ]
    },
    {
     "name": "stderr",
     "output_type": "stream",
     "text": []
    },
    {
     "name": "stdout",
     "output_type": "stream",
     "text": [
      "MoviePy - Done.\n"
     ]
    },
    {
     "name": "stderr",
     "output_type": "stream",
     "text": [
      "chunk:  43%|████▎     | 432/1003 [00:00<00:00, 2345.57it/s, now=None]"
     ]
    },
    {
     "name": "stdout",
     "output_type": "stream",
     "text": [
      "MoviePy - Writing audio in D:/College Work/Internship/IIIT-A/Code/Audio/927_0201_01.wav\n"
     ]
    },
    {
     "name": "stderr",
     "output_type": "stream",
     "text": []
    },
    {
     "name": "stdout",
     "output_type": "stream",
     "text": [
      "MoviePy - Done.\n"
     ]
    },
    {
     "name": "stderr",
     "output_type": "stream",
     "text": [
      "chunk:  42%|████▏     | 334/804 [00:00<00:00, 3314.39it/s, now=None]"
     ]
    },
    {
     "name": "stdout",
     "output_type": "stream",
     "text": [
      "MoviePy - Writing audio in D:/College Work/Internship/IIIT-A/Code/Audio/927_0202_01.wav\n"
     ]
    },
    {
     "name": "stderr",
     "output_type": "stream",
     "text": []
    },
    {
     "name": "stdout",
     "output_type": "stream",
     "text": [
      "MoviePy - Done.\n"
     ]
    },
    {
     "name": "stderr",
     "output_type": "stream",
     "text": [
      "chunk:  13%|█▎        | 103/764 [00:00<00:00, 1022.72it/s, now=None]"
     ]
    },
    {
     "name": "stdout",
     "output_type": "stream",
     "text": [
      "MoviePy - Writing audio in D:/College Work/Internship/IIIT-A/Code/Audio/927_0212_01.wav\n"
     ]
    },
    {
     "name": "stderr",
     "output_type": "stream",
     "text": []
    },
    {
     "name": "stdout",
     "output_type": "stream",
     "text": [
      "MoviePy - Done.\n"
     ]
    },
    {
     "name": "stderr",
     "output_type": "stream",
     "text": [
      "chunk:  36%|███▌      | 459/1275 [00:00<00:00, 2458.08it/s, now=None]"
     ]
    },
    {
     "name": "stdout",
     "output_type": "stream",
     "text": [
      "MoviePy - Writing audio in D:/College Work/Internship/IIIT-A/Code/Audio/927_0213_01.wav\n"
     ]
    },
    {
     "name": "stderr",
     "output_type": "stream",
     "text": []
    },
    {
     "name": "stdout",
     "output_type": "stream",
     "text": [
      "MoviePy - Done.\n"
     ]
    },
    {
     "name": "stderr",
     "output_type": "stream",
     "text": [
      "chunk:  11%|█         | 109/979 [00:00<00:00, 1081.61it/s, now=None]"
     ]
    },
    {
     "name": "stdout",
     "output_type": "stream",
     "text": [
      "MoviePy - Writing audio in D:/College Work/Internship/IIIT-A/Code/Audio/927_0214_01.wav\n"
     ]
    },
    {
     "name": "stderr",
     "output_type": "stream",
     "text": []
    },
    {
     "name": "stdout",
     "output_type": "stream",
     "text": [
      "MoviePy - Done.\n"
     ]
    },
    {
     "name": "stderr",
     "output_type": "stream",
     "text": [
      "chunk:  45%|████▌     | 454/1001 [00:00<00:00, 2442.51it/s, now=None]"
     ]
    },
    {
     "name": "stdout",
     "output_type": "stream",
     "text": [
      "MoviePy - Writing audio in D:/College Work/Internship/IIIT-A/Code/Audio/927_0215_01.wav\n"
     ]
    },
    {
     "name": "stderr",
     "output_type": "stream",
     "text": []
    },
    {
     "name": "stdout",
     "output_type": "stream",
     "text": [
      "MoviePy - Done.\n"
     ]
    },
    {
     "name": "stderr",
     "output_type": "stream",
     "text": [
      "chunk:  15%|█▌        | 112/733 [00:00<00:00, 1111.56it/s, now=None]"
     ]
    },
    {
     "name": "stdout",
     "output_type": "stream",
     "text": [
      "MoviePy - Writing audio in D:/College Work/Internship/IIIT-A/Code/Audio/927_0216_01.wav\n"
     ]
    },
    {
     "name": "stderr",
     "output_type": "stream",
     "text": []
    },
    {
     "name": "stdout",
     "output_type": "stream",
     "text": [
      "MoviePy - Done.\n"
     ]
    },
    {
     "name": "stderr",
     "output_type": "stream",
     "text": [
      "chunk:  33%|███▎      | 459/1387 [00:00<00:00, 2458.45it/s, now=None]"
     ]
    },
    {
     "name": "stdout",
     "output_type": "stream",
     "text": [
      "MoviePy - Writing audio in D:/College Work/Internship/IIIT-A/Code/Audio/927_0217_01.wav\n"
     ]
    },
    {
     "name": "stderr",
     "output_type": "stream",
     "text": []
    },
    {
     "name": "stdout",
     "output_type": "stream",
     "text": [
      "MoviePy - Done.\n"
     ]
    },
    {
     "name": "stderr",
     "output_type": "stream",
     "text": [
      "chunk:  15%|█▌        | 111/724 [00:00<00:00, 1107.30it/s, now=None]"
     ]
    },
    {
     "name": "stdout",
     "output_type": "stream",
     "text": [
      "MoviePy - Writing audio in D:/College Work/Internship/IIIT-A/Code/Audio/927_0218_01.wav\n"
     ]
    },
    {
     "name": "stderr",
     "output_type": "stream",
     "text": []
    },
    {
     "name": "stdout",
     "output_type": "stream",
     "text": [
      "MoviePy - Done.\n"
     ]
    },
    {
     "name": "stderr",
     "output_type": "stream",
     "text": [
      "chunk:  15%|█▌        | 103/675 [00:00<00:00, 1026.90it/s, now=None]"
     ]
    },
    {
     "name": "stdout",
     "output_type": "stream",
     "text": [
      "MoviePy - Writing audio in D:/College Work/Internship/IIIT-A/Code/Audio/927_0219_01.wav\n"
     ]
    },
    {
     "name": "stderr",
     "output_type": "stream",
     "text": []
    },
    {
     "name": "stdout",
     "output_type": "stream",
     "text": [
      "MoviePy - Done.\n"
     ]
    },
    {
     "name": "stderr",
     "output_type": "stream",
     "text": [
      "chunk:  12%|█▏        | 104/869 [00:00<00:00, 1035.27it/s, now=None]"
     ]
    },
    {
     "name": "stdout",
     "output_type": "stream",
     "text": [
      "MoviePy - Writing audio in D:/College Work/Internship/IIIT-A/Code/Audio/927_0220_01.wav\n"
     ]
    },
    {
     "name": "stderr",
     "output_type": "stream",
     "text": []
    },
    {
     "name": "stdout",
     "output_type": "stream",
     "text": [
      "MoviePy - Done.\n"
     ]
    },
    {
     "name": "stderr",
     "output_type": "stream",
     "text": [
      "chunk:   0%|          | 0/736 [00:00<?, ?it/s, now=None]"
     ]
    },
    {
     "name": "stdout",
     "output_type": "stream",
     "text": [
      "MoviePy - Writing audio in D:/College Work/Internship/IIIT-A/Code/Audio/927_0221_01.wav\n"
     ]
    },
    {
     "name": "stderr",
     "output_type": "stream",
     "text": []
    },
    {
     "name": "stdout",
     "output_type": "stream",
     "text": [
      "MoviePy - Done.\n"
     ]
    },
    {
     "name": "stderr",
     "output_type": "stream",
     "text": [
      "chunk:   0%|          | 0/699 [00:00<?, ?it/s, now=None]"
     ]
    },
    {
     "name": "stdout",
     "output_type": "stream",
     "text": [
      "MoviePy - Writing audio in D:/College Work/Internship/IIIT-A/Code/Audio/927_0222_01.wav\n"
     ]
    },
    {
     "name": "stderr",
     "output_type": "stream",
     "text": []
    },
    {
     "name": "stdout",
     "output_type": "stream",
     "text": [
      "MoviePy - Done.\n"
     ]
    },
    {
     "name": "stderr",
     "output_type": "stream",
     "text": [
      "chunk:  13%|█▎        | 102/812 [00:00<00:00, 771.07it/s, now=None]"
     ]
    },
    {
     "name": "stdout",
     "output_type": "stream",
     "text": [
      "MoviePy - Writing audio in D:/College Work/Internship/IIIT-A/Code/Audio/927_0223_01.wav\n"
     ]
    },
    {
     "name": "stderr",
     "output_type": "stream",
     "text": []
    },
    {
     "name": "stdout",
     "output_type": "stream",
     "text": [
      "MoviePy - Done.\n"
     ]
    },
    {
     "name": "stderr",
     "output_type": "stream",
     "text": [
      "chunk:  13%|█▎        | 102/807 [00:00<00:00, 765.45it/s, now=None]"
     ]
    },
    {
     "name": "stdout",
     "output_type": "stream",
     "text": [
      "MoviePy - Writing audio in D:/College Work/Internship/IIIT-A/Code/Audio/927_0224_01.wav\n"
     ]
    },
    {
     "name": "stderr",
     "output_type": "stream",
     "text": []
    },
    {
     "name": "stdout",
     "output_type": "stream",
     "text": [
      "MoviePy - Done.\n"
     ]
    },
    {
     "name": "stderr",
     "output_type": "stream",
     "text": [
      "chunk:  12%|█▏        | 102/826 [00:00<00:00, 755.34it/s, now=None]"
     ]
    },
    {
     "name": "stdout",
     "output_type": "stream",
     "text": [
      "MoviePy - Writing audio in D:/College Work/Internship/IIIT-A/Code/Audio/927_0225_01.wav\n"
     ]
    },
    {
     "name": "stderr",
     "output_type": "stream",
     "text": []
    },
    {
     "name": "stdout",
     "output_type": "stream",
     "text": [
      "MoviePy - Done.\n"
     ]
    },
    {
     "name": "stderr",
     "output_type": "stream",
     "text": [
      "chunk:  26%|██▌       | 162/632 [00:00<00:00, 832.62it/s, now=None]"
     ]
    },
    {
     "name": "stdout",
     "output_type": "stream",
     "text": [
      "MoviePy - Writing audio in D:/College Work/Internship/IIIT-A/Code/Audio/927_0226_01.wav\n"
     ]
    },
    {
     "name": "stderr",
     "output_type": "stream",
     "text": []
    },
    {
     "name": "stdout",
     "output_type": "stream",
     "text": [
      "MoviePy - Done.\n"
     ]
    },
    {
     "name": "stderr",
     "output_type": "stream",
     "text": [
      "chunk:  13%|█▎        | 102/770 [00:00<00:00, 822.29it/s, now=None]"
     ]
    },
    {
     "name": "stdout",
     "output_type": "stream",
     "text": [
      "MoviePy - Writing audio in D:/College Work/Internship/IIIT-A/Code/Audio/927_0227_01.wav\n"
     ]
    },
    {
     "name": "stderr",
     "output_type": "stream",
     "text": []
    },
    {
     "name": "stdout",
     "output_type": "stream",
     "text": [
      "MoviePy - Done.\n"
     ]
    },
    {
     "name": "stderr",
     "output_type": "stream",
     "text": [
      "chunk:   8%|▊         | 73/933 [00:00<00:01, 724.73it/s, now=None]"
     ]
    },
    {
     "name": "stdout",
     "output_type": "stream",
     "text": [
      "MoviePy - Writing audio in D:/College Work/Internship/IIIT-A/Code/Audio/927_0228_01.wav\n"
     ]
    },
    {
     "name": "stderr",
     "output_type": "stream",
     "text": []
    },
    {
     "name": "stdout",
     "output_type": "stream",
     "text": [
      "MoviePy - Done.\n"
     ]
    },
    {
     "name": "stderr",
     "output_type": "stream",
     "text": [
      "chunk:  17%|█▋        | 102/604 [00:00<00:00, 815.55it/s, now=None]"
     ]
    },
    {
     "name": "stdout",
     "output_type": "stream",
     "text": [
      "MoviePy - Writing audio in D:/College Work/Internship/IIIT-A/Code/Audio/927_0229_01.wav\n"
     ]
    },
    {
     "name": "stderr",
     "output_type": "stream",
     "text": []
    },
    {
     "name": "stdout",
     "output_type": "stream",
     "text": [
      "MoviePy - Done.\n"
     ]
    },
    {
     "name": "stderr",
     "output_type": "stream",
     "text": [
      "chunk:  17%|█▋        | 102/613 [00:00<00:00, 764.67it/s, now=None]"
     ]
    },
    {
     "name": "stdout",
     "output_type": "stream",
     "text": [
      "MoviePy - Writing audio in D:/College Work/Internship/IIIT-A/Code/Audio/927_0230_01.wav\n"
     ]
    },
    {
     "name": "stderr",
     "output_type": "stream",
     "text": []
    },
    {
     "name": "stdout",
     "output_type": "stream",
     "text": [
      "MoviePy - Done.\n"
     ]
    },
    {
     "name": "stderr",
     "output_type": "stream",
     "text": [
      "chunk:  16%|█▋        | 102/623 [00:00<00:00, 580.31it/s, now=None]"
     ]
    },
    {
     "name": "stdout",
     "output_type": "stream",
     "text": [
      "MoviePy - Writing audio in D:/College Work/Internship/IIIT-A/Code/Audio/927_0231_01.wav\n"
     ]
    },
    {
     "name": "stderr",
     "output_type": "stream",
     "text": []
    },
    {
     "name": "stdout",
     "output_type": "stream",
     "text": [
      "MoviePy - Done.\n"
     ]
    },
    {
     "name": "stderr",
     "output_type": "stream",
     "text": [
      "chunk:   5%|▌         | 32/600 [00:00<00:01, 317.11it/s, now=None]"
     ]
    },
    {
     "name": "stdout",
     "output_type": "stream",
     "text": [
      "MoviePy - Writing audio in D:/College Work/Internship/IIIT-A/Code/Audio/927_0232_01.wav\n"
     ]
    },
    {
     "name": "stderr",
     "output_type": "stream",
     "text": []
    },
    {
     "name": "stdout",
     "output_type": "stream",
     "text": [
      "MoviePy - Done.\n"
     ]
    },
    {
     "name": "stderr",
     "output_type": "stream",
     "text": [
      "chunk:  14%|█▍        | 92/661 [00:00<00:00, 913.14it/s, now=None]"
     ]
    },
    {
     "name": "stdout",
     "output_type": "stream",
     "text": [
      "MoviePy - Writing audio in D:/College Work/Internship/IIIT-A/Code/Audio/927_0233_01.wav\n"
     ]
    },
    {
     "name": "stderr",
     "output_type": "stream",
     "text": []
    },
    {
     "name": "stdout",
     "output_type": "stream",
     "text": [
      "MoviePy - Done.\n"
     ]
    },
    {
     "name": "stderr",
     "output_type": "stream",
     "text": [
      "chunk:  12%|█▏        | 102/864 [00:00<00:00, 824.21it/s, now=None]"
     ]
    },
    {
     "name": "stdout",
     "output_type": "stream",
     "text": [
      "MoviePy - Writing audio in D:/College Work/Internship/IIIT-A/Code/Audio/927_0234_01.wav\n"
     ]
    },
    {
     "name": "stderr",
     "output_type": "stream",
     "text": []
    },
    {
     "name": "stdout",
     "output_type": "stream",
     "text": [
      "MoviePy - Done.\n"
     ]
    },
    {
     "name": "stderr",
     "output_type": "stream",
     "text": [
      "chunk:  14%|█▎        | 102/754 [00:00<00:00, 756.59it/s, now=None]"
     ]
    },
    {
     "name": "stdout",
     "output_type": "stream",
     "text": [
      "MoviePy - Writing audio in D:/College Work/Internship/IIIT-A/Code/Audio/927_0235_01.wav\n"
     ]
    },
    {
     "name": "stderr",
     "output_type": "stream",
     "text": []
    },
    {
     "name": "stdout",
     "output_type": "stream",
     "text": [
      "MoviePy - Done.\n"
     ]
    },
    {
     "name": "stderr",
     "output_type": "stream",
     "text": [
      "chunk:  11%|█         | 102/966 [00:00<00:01, 815.12it/s, now=None]"
     ]
    },
    {
     "name": "stdout",
     "output_type": "stream",
     "text": [
      "MoviePy - Writing audio in D:/College Work/Internship/IIIT-A/Code/Audio/927_0236_01.wav\n"
     ]
    },
    {
     "name": "stderr",
     "output_type": "stream",
     "text": []
    },
    {
     "name": "stdout",
     "output_type": "stream",
     "text": [
      "MoviePy - Done.\n"
     ]
    },
    {
     "name": "stderr",
     "output_type": "stream",
     "text": [
      "chunk:  16%|█▌        | 102/630 [00:00<00:00, 793.67it/s, now=None]"
     ]
    },
    {
     "name": "stdout",
     "output_type": "stream",
     "text": [
      "MoviePy - Writing audio in D:/College Work/Internship/IIIT-A/Code/Audio/927_0237_01.wav\n"
     ]
    },
    {
     "name": "stderr",
     "output_type": "stream",
     "text": []
    },
    {
     "name": "stdout",
     "output_type": "stream",
     "text": [
      "MoviePy - Done.\n"
     ]
    },
    {
     "name": "stderr",
     "output_type": "stream",
     "text": [
      "chunk:  13%|█▎        | 102/792 [00:00<00:01, 561.81it/s, now=None]"
     ]
    },
    {
     "name": "stdout",
     "output_type": "stream",
     "text": [
      "MoviePy - Writing audio in D:/College Work/Internship/IIIT-A/Code/Audio/927_0239_01.wav\n"
     ]
    },
    {
     "name": "stderr",
     "output_type": "stream",
     "text": []
    },
    {
     "name": "stdout",
     "output_type": "stream",
     "text": [
      "MoviePy - Done.\n"
     ]
    },
    {
     "name": "stderr",
     "output_type": "stream",
     "text": [
      "chunk:   9%|▊         | 53/612 [00:00<00:01, 526.16it/s, now=None]"
     ]
    },
    {
     "name": "stdout",
     "output_type": "stream",
     "text": [
      "MoviePy - Writing audio in D:/College Work/Internship/IIIT-A/Code/Audio/927_0240_01.wav\n"
     ]
    },
    {
     "name": "stderr",
     "output_type": "stream",
     "text": []
    },
    {
     "name": "stdout",
     "output_type": "stream",
     "text": [
      "MoviePy - Done.\n"
     ]
    },
    {
     "name": "stderr",
     "output_type": "stream",
     "text": [
      "chunk:  10%|█         | 59/585 [00:00<00:00, 585.65it/s, now=None]"
     ]
    },
    {
     "name": "stdout",
     "output_type": "stream",
     "text": [
      "MoviePy - Writing audio in D:/College Work/Internship/IIIT-A/Code/Audio/927_0241_01.wav\n"
     ]
    },
    {
     "name": "stderr",
     "output_type": "stream",
     "text": []
    },
    {
     "name": "stdout",
     "output_type": "stream",
     "text": [
      "MoviePy - Done.\n"
     ]
    },
    {
     "name": "stderr",
     "output_type": "stream",
     "text": [
      "chunk:   8%|▊         | 53/639 [00:00<00:01, 525.06it/s, now=None]"
     ]
    },
    {
     "name": "stdout",
     "output_type": "stream",
     "text": [
      "MoviePy - Writing audio in D:/College Work/Internship/IIIT-A/Code/Audio/927_0242_01.wav\n"
     ]
    },
    {
     "name": "stderr",
     "output_type": "stream",
     "text": []
    },
    {
     "name": "stdout",
     "output_type": "stream",
     "text": [
      "MoviePy - Done.\n"
     ]
    },
    {
     "name": "stderr",
     "output_type": "stream",
     "text": [
      "chunk:  10%|▉         | 59/595 [00:00<00:00, 585.58it/s, now=None]"
     ]
    },
    {
     "name": "stdout",
     "output_type": "stream",
     "text": [
      "MoviePy - Writing audio in D:/College Work/Internship/IIIT-A/Code/Audio/927_0243_01.wav\n"
     ]
    },
    {
     "name": "stderr",
     "output_type": "stream",
     "text": []
    },
    {
     "name": "stdout",
     "output_type": "stream",
     "text": [
      "MoviePy - Done.\n"
     ]
    },
    {
     "name": "stderr",
     "output_type": "stream",
     "text": [
      "chunk:  14%|█▍        | 84/597 [00:00<00:00, 839.38it/s, now=None]"
     ]
    },
    {
     "name": "stdout",
     "output_type": "stream",
     "text": [
      "MoviePy - Writing audio in D:/College Work/Internship/IIIT-A/Code/Audio/927_0244_01.wav\n"
     ]
    },
    {
     "name": "stderr",
     "output_type": "stream",
     "text": []
    },
    {
     "name": "stdout",
     "output_type": "stream",
     "text": [
      "MoviePy - Done.\n"
     ]
    },
    {
     "name": "stderr",
     "output_type": "stream",
     "text": [
      "chunk:  18%|█▊        | 98/553 [00:00<00:00, 972.55it/s, now=None]"
     ]
    },
    {
     "name": "stdout",
     "output_type": "stream",
     "text": [
      "MoviePy - Writing audio in D:/College Work/Internship/IIIT-A/Code/Audio/927_0245_01.wav\n"
     ]
    },
    {
     "name": "stderr",
     "output_type": "stream",
     "text": []
    },
    {
     "name": "stdout",
     "output_type": "stream",
     "text": [
      "MoviePy - Done.\n"
     ]
    },
    {
     "name": "stderr",
     "output_type": "stream",
     "text": [
      "chunk:  13%|█▎        | 153/1209 [00:00<00:01, 796.07it/s, now=None]"
     ]
    },
    {
     "name": "stdout",
     "output_type": "stream",
     "text": [
      "MoviePy - Writing audio in D:/College Work/Internship/IIIT-A/Code/Audio/927_0246_01.wav\n"
     ]
    },
    {
     "name": "stderr",
     "output_type": "stream",
     "text": []
    },
    {
     "name": "stdout",
     "output_type": "stream",
     "text": [
      "MoviePy - Done.\n"
     ]
    },
    {
     "name": "stderr",
     "output_type": "stream",
     "text": [
      "chunk:  19%|█▉        | 102/536 [00:00<00:00, 601.06it/s, now=None]"
     ]
    },
    {
     "name": "stdout",
     "output_type": "stream",
     "text": [
      "MoviePy - Writing audio in D:/College Work/Internship/IIIT-A/Code/Audio/927_0247_01.wav\n"
     ]
    },
    {
     "name": "stderr",
     "output_type": "stream",
     "text": []
    },
    {
     "name": "stdout",
     "output_type": "stream",
     "text": [
      "MoviePy - Done.\n"
     ]
    },
    {
     "name": "stderr",
     "output_type": "stream",
     "text": [
      "chunk:  16%|█▋        | 102/622 [00:00<00:00, 822.21it/s, now=None]"
     ]
    },
    {
     "name": "stdout",
     "output_type": "stream",
     "text": [
      "MoviePy - Writing audio in D:/College Work/Internship/IIIT-A/Code/Audio/927_0248_01.wav\n"
     ]
    },
    {
     "name": "stderr",
     "output_type": "stream",
     "text": []
    },
    {
     "name": "stdout",
     "output_type": "stream",
     "text": [
      "MoviePy - Done.\n"
     ]
    },
    {
     "name": "stderr",
     "output_type": "stream",
     "text": [
      "chunk:  11%|█▏        | 102/894 [00:00<00:00, 809.14it/s, now=None]"
     ]
    },
    {
     "name": "stdout",
     "output_type": "stream",
     "text": [
      "MoviePy - Writing audio in D:/College Work/Internship/IIIT-A/Code/Audio/927_0249_01.wav\n"
     ]
    },
    {
     "name": "stderr",
     "output_type": "stream",
     "text": []
    },
    {
     "name": "stdout",
     "output_type": "stream",
     "text": [
      "MoviePy - Done.\n"
     ]
    },
    {
     "name": "stderr",
     "output_type": "stream",
     "text": [
      "chunk:   4%|▍         | 33/828 [00:00<00:02, 327.67it/s, now=None]"
     ]
    },
    {
     "name": "stdout",
     "output_type": "stream",
     "text": [
      "MoviePy - Writing audio in D:/College Work/Internship/IIIT-A/Code/Audio/927_0250_01.wav\n"
     ]
    },
    {
     "name": "stderr",
     "output_type": "stream",
     "text": []
    },
    {
     "name": "stdout",
     "output_type": "stream",
     "text": [
      "MoviePy - Done.\n"
     ]
    },
    {
     "name": "stderr",
     "output_type": "stream",
     "text": [
      "chunk:   4%|▎         | 31/867 [00:00<00:02, 307.70it/s, now=None]"
     ]
    },
    {
     "name": "stdout",
     "output_type": "stream",
     "text": [
      "MoviePy - Writing audio in D:/College Work/Internship/IIIT-A/Code/Audio/927_0251_01.wav\n"
     ]
    },
    {
     "name": "stderr",
     "output_type": "stream",
     "text": []
    },
    {
     "name": "stdout",
     "output_type": "stream",
     "text": [
      "MoviePy - Done.\n"
     ]
    },
    {
     "name": "stderr",
     "output_type": "stream",
     "text": [
      "chunk:  18%|█▊        | 102/563 [00:00<00:00, 804.61it/s, now=None]"
     ]
    },
    {
     "name": "stdout",
     "output_type": "stream",
     "text": [
      "MoviePy - Writing audio in D:/College Work/Internship/IIIT-A/Code/Audio/927_0252_01.wav\n"
     ]
    },
    {
     "name": "stderr",
     "output_type": "stream",
     "text": []
    },
    {
     "name": "stdout",
     "output_type": "stream",
     "text": [
      "MoviePy - Done.\n"
     ]
    },
    {
     "name": "stderr",
     "output_type": "stream",
     "text": [
      "chunk:  11%|█         | 102/920 [00:00<00:01, 787.04it/s, now=None]"
     ]
    },
    {
     "name": "stdout",
     "output_type": "stream",
     "text": [
      "MoviePy - Writing audio in D:/College Work/Internship/IIIT-A/Code/Audio/927_0253_01.wav\n"
     ]
    },
    {
     "name": "stderr",
     "output_type": "stream",
     "text": []
    },
    {
     "name": "stdout",
     "output_type": "stream",
     "text": [
      "MoviePy - Done.\n"
     ]
    },
    {
     "name": "stderr",
     "output_type": "stream",
     "text": [
      "chunk:  16%|█▌        | 102/636 [00:00<00:00, 793.58it/s, now=None]"
     ]
    },
    {
     "name": "stdout",
     "output_type": "stream",
     "text": [
      "MoviePy - Writing audio in D:/College Work/Internship/IIIT-A/Code/Audio/927_0254_01.wav\n"
     ]
    },
    {
     "name": "stderr",
     "output_type": "stream",
     "text": []
    },
    {
     "name": "stdout",
     "output_type": "stream",
     "text": [
      "MoviePy - Done.\n"
     ]
    },
    {
     "name": "stderr",
     "output_type": "stream",
     "text": [
      "chunk:   8%|▊         | 66/783 [00:00<00:01, 655.22it/s, now=None]"
     ]
    },
    {
     "name": "stdout",
     "output_type": "stream",
     "text": [
      "MoviePy - Writing audio in D:/College Work/Internship/IIIT-A/Code/Audio/927_0269_01.wav\n"
     ]
    },
    {
     "name": "stderr",
     "output_type": "stream",
     "text": []
    },
    {
     "name": "stdout",
     "output_type": "stream",
     "text": [
      "MoviePy - Done.\n"
     ]
    },
    {
     "name": "stderr",
     "output_type": "stream",
     "text": [
      "chunk:  13%|█▎        | 102/810 [00:00<00:00, 753.56it/s, now=None]"
     ]
    },
    {
     "name": "stdout",
     "output_type": "stream",
     "text": [
      "MoviePy - Writing audio in D:/College Work/Internship/IIIT-A/Code/Audio/927_0270_01.wav\n"
     ]
    },
    {
     "name": "stderr",
     "output_type": "stream",
     "text": []
    },
    {
     "name": "stdout",
     "output_type": "stream",
     "text": [
      "MoviePy - Done.\n"
     ]
    },
    {
     "name": "stderr",
     "output_type": "stream",
     "text": [
      "chunk:  23%|██▎       | 163/701 [00:00<00:00, 793.10it/s, now=None]"
     ]
    },
    {
     "name": "stdout",
     "output_type": "stream",
     "text": [
      "MoviePy - Writing audio in D:/College Work/Internship/IIIT-A/Code/Audio/927_0271_01.wav\n"
     ]
    },
    {
     "name": "stderr",
     "output_type": "stream",
     "text": []
    },
    {
     "name": "stdout",
     "output_type": "stream",
     "text": [
      "MoviePy - Done.\n"
     ]
    },
    {
     "name": "stderr",
     "output_type": "stream",
     "text": [
      "chunk:  11%|█         | 102/955 [00:00<00:01, 794.84it/s, now=None]"
     ]
    },
    {
     "name": "stdout",
     "output_type": "stream",
     "text": [
      "MoviePy - Writing audio in D:/College Work/Internship/IIIT-A/Code/Audio/927_0272_01.wav\n"
     ]
    },
    {
     "name": "stderr",
     "output_type": "stream",
     "text": []
    },
    {
     "name": "stdout",
     "output_type": "stream",
     "text": [
      "MoviePy - Done.\n"
     ]
    },
    {
     "name": "stderr",
     "output_type": "stream",
     "text": [
      "chunk:  16%|█▋        | 102/621 [00:00<00:00, 751.46it/s, now=None]"
     ]
    },
    {
     "name": "stdout",
     "output_type": "stream",
     "text": [
      "MoviePy - Writing audio in D:/College Work/Internship/IIIT-A/Code/Audio/927_0273_01.wav\n"
     ]
    },
    {
     "name": "stderr",
     "output_type": "stream",
     "text": []
    },
    {
     "name": "stdout",
     "output_type": "stream",
     "text": [
      "MoviePy - Done.\n"
     ]
    },
    {
     "name": "stderr",
     "output_type": "stream",
     "text": [
      "chunk:  20%|██        | 176/872 [00:00<00:00, 864.58it/s, now=None]"
     ]
    },
    {
     "name": "stdout",
     "output_type": "stream",
     "text": [
      "MoviePy - Writing audio in D:/College Work/Internship/IIIT-A/Code/Audio/927_0274_01.wav\n"
     ]
    },
    {
     "name": "stderr",
     "output_type": "stream",
     "text": []
    },
    {
     "name": "stdout",
     "output_type": "stream",
     "text": [
      "MoviePy - Done.\n"
     ]
    },
    {
     "name": "stderr",
     "output_type": "stream",
     "text": [
      "chunk:   7%|▋         | 54/730 [00:00<00:01, 539.01it/s, now=None]"
     ]
    },
    {
     "name": "stdout",
     "output_type": "stream",
     "text": [
      "MoviePy - Writing audio in D:/College Work/Internship/IIIT-A/Code/Audio/927_0275_01.wav\n"
     ]
    },
    {
     "name": "stderr",
     "output_type": "stream",
     "text": []
    },
    {
     "name": "stdout",
     "output_type": "stream",
     "text": [
      "MoviePy - Done.\n"
     ]
    },
    {
     "name": "stderr",
     "output_type": "stream",
     "text": [
      "chunk:   7%|▋         | 102/1374 [00:00<00:01, 849.11it/s, now=None]"
     ]
    },
    {
     "name": "stdout",
     "output_type": "stream",
     "text": [
      "MoviePy - Writing audio in D:/College Work/Internship/IIIT-A/Code/Audio/927_0276_01.wav\n"
     ]
    },
    {
     "name": "stderr",
     "output_type": "stream",
     "text": []
    },
    {
     "name": "stdout",
     "output_type": "stream",
     "text": [
      "MoviePy - Done.\n"
     ]
    },
    {
     "name": "stderr",
     "output_type": "stream",
     "text": [
      "chunk:   8%|▊         | 102/1224 [00:00<00:01, 751.71it/s, now=None]"
     ]
    },
    {
     "name": "stdout",
     "output_type": "stream",
     "text": [
      "MoviePy - Writing audio in D:/College Work/Internship/IIIT-A/Code/Audio/927_0277_01.wav\n"
     ]
    },
    {
     "name": "stderr",
     "output_type": "stream",
     "text": []
    },
    {
     "name": "stdout",
     "output_type": "stream",
     "text": [
      "MoviePy - Done.\n"
     ]
    },
    {
     "name": "stderr",
     "output_type": "stream",
     "text": [
      "chunk:  11%|█         | 102/958 [00:00<00:01, 815.67it/s, now=None]"
     ]
    },
    {
     "name": "stdout",
     "output_type": "stream",
     "text": [
      "MoviePy - Writing audio in D:/College Work/Internship/IIIT-A/Code/Audio/927_0278_01.wav\n"
     ]
    },
    {
     "name": "stderr",
     "output_type": "stream",
     "text": []
    },
    {
     "name": "stdout",
     "output_type": "stream",
     "text": [
      "MoviePy - Done.\n"
     ]
    },
    {
     "name": "stderr",
     "output_type": "stream",
     "text": [
      "chunk:  11%|█         | 102/945 [00:00<00:01, 778.48it/s, now=None]"
     ]
    },
    {
     "name": "stdout",
     "output_type": "stream",
     "text": [
      "MoviePy - Writing audio in D:/College Work/Internship/IIIT-A/Code/Audio/927_0279_01.wav\n"
     ]
    },
    {
     "name": "stderr",
     "output_type": "stream",
     "text": []
    },
    {
     "name": "stdout",
     "output_type": "stream",
     "text": [
      "MoviePy - Done.\n"
     ]
    },
    {
     "name": "stderr",
     "output_type": "stream",
     "text": [
      "chunk:  10%|▉         | 72/757 [00:00<00:00, 714.79it/s, now=None]"
     ]
    },
    {
     "name": "stdout",
     "output_type": "stream",
     "text": [
      "MoviePy - Writing audio in D:/College Work/Internship/IIIT-A/Code/Audio/927_0280_01.wav\n"
     ]
    },
    {
     "name": "stderr",
     "output_type": "stream",
     "text": []
    },
    {
     "name": "stdout",
     "output_type": "stream",
     "text": [
      "MoviePy - Done.\n"
     ]
    },
    {
     "name": "stderr",
     "output_type": "stream",
     "text": [
      "chunk:   6%|▌         | 64/1155 [00:00<00:01, 637.42it/s, now=None]"
     ]
    },
    {
     "name": "stdout",
     "output_type": "stream",
     "text": [
      "MoviePy - Writing audio in D:/College Work/Internship/IIIT-A/Code/Audio/927_0281_01.wav\n"
     ]
    },
    {
     "name": "stderr",
     "output_type": "stream",
     "text": []
    },
    {
     "name": "stdout",
     "output_type": "stream",
     "text": [
      "MoviePy - Done.\n"
     ]
    },
    {
     "name": "stderr",
     "output_type": "stream",
     "text": [
      "chunk:   9%|▊         | 71/830 [00:00<00:01, 704.87it/s, now=None]"
     ]
    },
    {
     "name": "stdout",
     "output_type": "stream",
     "text": [
      "MoviePy - Writing audio in D:/College Work/Internship/IIIT-A/Code/Audio/927_0282_01.wav\n"
     ]
    },
    {
     "name": "stderr",
     "output_type": "stream",
     "text": [
      "                                                                    "
     ]
    },
    {
     "name": "stdout",
     "output_type": "stream",
     "text": [
      "MoviePy - Done.\n"
     ]
    },
    {
     "name": "stderr",
     "output_type": "stream",
     "text": []
    }
   ],
   "source": [
    "for video in files:\r\n",
    "    clip = mp.VideoFileClip(root+video)\r\n",
    " \r\n",
    "    clip.audio.write_audiofile(save+ str(video)[:-4] +\".wav\")"
   ]
  },
  {
   "cell_type": "code",
   "execution_count": 17,
   "metadata": {},
   "outputs": [
    {
     "data": {
      "text/html": [
       "<div>\n",
       "<style scoped>\n",
       "    .dataframe tbody tr th:only-of-type {\n",
       "        vertical-align: middle;\n",
       "    }\n",
       "\n",
       "    .dataframe tbody tr th {\n",
       "        vertical-align: top;\n",
       "    }\n",
       "\n",
       "    .dataframe thead th {\n",
       "        text-align: right;\n",
       "    }\n",
       "</style>\n",
       "<table border=\"1\" class=\"dataframe\">\n",
       "  <thead>\n",
       "    <tr style=\"text-align: right;\">\n",
       "      <th></th>\n",
       "      <th>gender</th>\n",
       "      <th>gender_no</th>\n",
       "      <th>output</th>\n",
       "      <th>expression_index</th>\n",
       "      <th>video_name</th>\n",
       "      <th>start_time_in_sec</th>\n",
       "      <th>end_time_in_sec</th>\n",
       "      <th>start_exp</th>\n",
       "      <th>end_exp</th>\n",
       "      <th>text_file</th>\n",
       "      <th>kinect_start_frame</th>\n",
       "      <th>kinect_end_frame</th>\n",
       "    </tr>\n",
       "  </thead>\n",
       "  <tbody>\n",
       "    <tr>\n",
       "      <th>1</th>\n",
       "      <td>F</td>\n",
       "      <td>3</td>\n",
       "      <td>An</td>\n",
       "      <td>1</td>\n",
       "      <td>927_0216_01.MP4</td>\n",
       "      <td>5.356700</td>\n",
       "      <td>9.481139</td>\n",
       "      <td>161</td>\n",
       "      <td>284</td>\n",
       "      <td>20170902_092359_00.txt</td>\n",
       "      <td>217</td>\n",
       "      <td>312</td>\n",
       "    </tr>\n",
       "    <tr>\n",
       "      <th>2</th>\n",
       "      <td>F</td>\n",
       "      <td>3</td>\n",
       "      <td>An</td>\n",
       "      <td>2</td>\n",
       "      <td>927_0216_01.MP4</td>\n",
       "      <td>9.883585</td>\n",
       "      <td>14.903150</td>\n",
       "      <td>296</td>\n",
       "      <td>447</td>\n",
       "      <td>20170902_092359_00.txt</td>\n",
       "      <td>322</td>\n",
       "      <td>466</td>\n",
       "    </tr>\n",
       "    <tr>\n",
       "      <th>3</th>\n",
       "      <td>F</td>\n",
       "      <td>3</td>\n",
       "      <td>An</td>\n",
       "      <td>3</td>\n",
       "      <td>927_0216_01.MP4</td>\n",
       "      <td>14.903150</td>\n",
       "      <td>19.427206</td>\n",
       "      <td>447</td>\n",
       "      <td>582</td>\n",
       "      <td>20170902_092359_00.txt</td>\n",
       "      <td>466</td>\n",
       "      <td>564</td>\n",
       "    </tr>\n",
       "    <tr>\n",
       "      <th>4</th>\n",
       "      <td>F</td>\n",
       "      <td>3</td>\n",
       "      <td>An</td>\n",
       "      <td>4</td>\n",
       "      <td>927_0216_01.MP4</td>\n",
       "      <td>19.427206</td>\n",
       "      <td>25.077029</td>\n",
       "      <td>582</td>\n",
       "      <td>752</td>\n",
       "      <td>20170902_092359_00.txt</td>\n",
       "      <td>564</td>\n",
       "      <td>699</td>\n",
       "    </tr>\n",
       "    <tr>\n",
       "      <th>5</th>\n",
       "      <td>F</td>\n",
       "      <td>3</td>\n",
       "      <td>An</td>\n",
       "      <td>5</td>\n",
       "      <td>927_0216_01.MP4</td>\n",
       "      <td>25.077029</td>\n",
       "      <td>29.981168</td>\n",
       "      <td>752</td>\n",
       "      <td>899</td>\n",
       "      <td>20170902_092359_00.txt</td>\n",
       "      <td>699</td>\n",
       "      <td>828</td>\n",
       "    </tr>\n",
       "    <tr>\n",
       "      <th>...</th>\n",
       "      <td>...</td>\n",
       "      <td>...</td>\n",
       "      <td>...</td>\n",
       "      <td>...</td>\n",
       "      <td>...</td>\n",
       "      <td>...</td>\n",
       "      <td>...</td>\n",
       "      <td>...</td>\n",
       "      <td>...</td>\n",
       "      <td>...</td>\n",
       "      <td>...</td>\n",
       "      <td>...</td>\n",
       "    </tr>\n",
       "    <tr>\n",
       "      <th>311</th>\n",
       "      <td>M</td>\n",
       "      <td>7</td>\n",
       "      <td>Su</td>\n",
       "      <td>1</td>\n",
       "      <td>927_0250_01.MP4</td>\n",
       "      <td>4.762682</td>\n",
       "      <td>10.875547</td>\n",
       "      <td>143</td>\n",
       "      <td>326</td>\n",
       "      <td>20170902_100800_00.txt</td>\n",
       "      <td>166</td>\n",
       "      <td>321</td>\n",
       "    </tr>\n",
       "    <tr>\n",
       "      <th>312</th>\n",
       "      <td>M</td>\n",
       "      <td>7</td>\n",
       "      <td>Su</td>\n",
       "      <td>2</td>\n",
       "      <td>927_0250_01.MP4</td>\n",
       "      <td>10.875547</td>\n",
       "      <td>16.408720</td>\n",
       "      <td>326</td>\n",
       "      <td>492</td>\n",
       "      <td>20170902_100800_00.txt</td>\n",
       "      <td>321</td>\n",
       "      <td>469</td>\n",
       "    </tr>\n",
       "    <tr>\n",
       "      <th>313</th>\n",
       "      <td>M</td>\n",
       "      <td>7</td>\n",
       "      <td>Su</td>\n",
       "      <td>3</td>\n",
       "      <td>927_0250_01.MP4</td>\n",
       "      <td>16.408720</td>\n",
       "      <td>22.919315</td>\n",
       "      <td>492</td>\n",
       "      <td>687</td>\n",
       "      <td>20170902_100800_00.txt</td>\n",
       "      <td>469</td>\n",
       "      <td>625</td>\n",
       "    </tr>\n",
       "    <tr>\n",
       "      <th>314</th>\n",
       "      <td>M</td>\n",
       "      <td>7</td>\n",
       "      <td>Su</td>\n",
       "      <td>4</td>\n",
       "      <td>927_0250_01.MP4</td>\n",
       "      <td>22.919315</td>\n",
       "      <td>27.789202</td>\n",
       "      <td>687</td>\n",
       "      <td>833</td>\n",
       "      <td>20170902_100800_00.txt</td>\n",
       "      <td>625</td>\n",
       "      <td>735</td>\n",
       "    </tr>\n",
       "    <tr>\n",
       "      <th>315</th>\n",
       "      <td>M</td>\n",
       "      <td>7</td>\n",
       "      <td>Su</td>\n",
       "      <td>5</td>\n",
       "      <td>927_0250_01.MP4</td>\n",
       "      <td>27.789202</td>\n",
       "      <td>34.564919</td>\n",
       "      <td>833</td>\n",
       "      <td>1036</td>\n",
       "      <td>20170902_100800_00.txt</td>\n",
       "      <td>735</td>\n",
       "      <td>898</td>\n",
       "    </tr>\n",
       "  </tbody>\n",
       "</table>\n",
       "<p>315 rows × 12 columns</p>\n",
       "</div>"
      ],
      "text/plain": [
       "    gender  gender_no output  expression_index       video_name  \\\n",
       "1        F          3     An                 1  927_0216_01.MP4   \n",
       "2        F          3     An                 2  927_0216_01.MP4   \n",
       "3        F          3     An                 3  927_0216_01.MP4   \n",
       "4        F          3     An                 4  927_0216_01.MP4   \n",
       "5        F          3     An                 5  927_0216_01.MP4   \n",
       "..     ...        ...    ...               ...              ...   \n",
       "311      M          7     Su                 1  927_0250_01.MP4   \n",
       "312      M          7     Su                 2  927_0250_01.MP4   \n",
       "313      M          7     Su                 3  927_0250_01.MP4   \n",
       "314      M          7     Su                 4  927_0250_01.MP4   \n",
       "315      M          7     Su                 5  927_0250_01.MP4   \n",
       "\n",
       "     start_time_in_sec  end_time_in_sec  start_exp  end_exp  \\\n",
       "1             5.356700         9.481139        161      284   \n",
       "2             9.883585        14.903150        296      447   \n",
       "3            14.903150        19.427206        447      582   \n",
       "4            19.427206        25.077029        582      752   \n",
       "5            25.077029        29.981168        752      899   \n",
       "..                 ...              ...        ...      ...   \n",
       "311           4.762682        10.875547        143      326   \n",
       "312          10.875547        16.408720        326      492   \n",
       "313          16.408720        22.919315        492      687   \n",
       "314          22.919315        27.789202        687      833   \n",
       "315          27.789202        34.564919        833     1036   \n",
       "\n",
       "                  text_file  kinect_start_frame  kinect_end_frame  \n",
       "1    20170902_092359_00.txt                 217               312  \n",
       "2    20170902_092359_00.txt                 322               466  \n",
       "3    20170902_092359_00.txt                 466               564  \n",
       "4    20170902_092359_00.txt                 564               699  \n",
       "5    20170902_092359_00.txt                 699               828  \n",
       "..                      ...                 ...               ...  \n",
       "311  20170902_100800_00.txt                 166               321  \n",
       "312  20170902_100800_00.txt                 321               469  \n",
       "313  20170902_100800_00.txt                 469               625  \n",
       "314  20170902_100800_00.txt                 625               735  \n",
       "315  20170902_100800_00.txt                 735               898  \n",
       "\n",
       "[315 rows x 12 columns]"
      ]
     },
     "execution_count": 17,
     "metadata": {},
     "output_type": "execute_result"
    }
   ],
   "source": [
    "import pandas as pd\r\n",
    "descriptors = pd.read_csv('Descriptors.csv', index_col=0)\r\n",
    "descriptors"
   ]
  },
  {
   "cell_type": "code",
   "execution_count": 19,
   "metadata": {},
   "outputs": [],
   "source": [
    "time_start = descriptors.loc[descriptors['video_name']=='927_0201_01.MP4']['start_time_in_sec'].values"
   ]
  },
  {
   "cell_type": "code",
   "execution_count": 20,
   "metadata": {},
   "outputs": [],
   "source": [
    "time_end = descriptors.loc[descriptors['video_name']=='927_0201_01.MP4']['end_time_in_sec'].values"
   ]
  },
  {
   "cell_type": "code",
   "execution_count": 21,
   "metadata": {},
   "outputs": [
    {
     "data": {
      "text/plain": [
       "array([ 3.66719381, 10.82282538, 29.45903102, 30.53638176, 36.93133275])"
      ]
     },
     "execution_count": 21,
     "metadata": {},
     "output_type": "execute_result"
    }
   ],
   "source": [
    "time_start"
   ]
  },
  {
   "cell_type": "code",
   "execution_count": 22,
   "metadata": {},
   "outputs": [
    {
     "data": {
      "text/plain": [
       "array([10.82282538, 19.69399872, 29.45903102, 36.40115538, 42.97952417])"
      ]
     },
     "execution_count": 22,
     "metadata": {},
     "output_type": "execute_result"
    }
   ],
   "source": [
    "time_end"
   ]
  }
 ],
 "metadata": {
  "interpreter": {
   "hash": "abc43c0dfd3be6e75395e609b68ff1d444fe1ba7bc598f9a4d8e0d29e2c56ec5"
  },
  "kernelspec": {
   "display_name": "Python 3.9.5 64-bit ('tensorflow-gpu': conda)",
   "name": "python3"
  },
  "language_info": {
   "codemirror_mode": {
    "name": "ipython",
    "version": 3
   },
   "file_extension": ".py",
   "mimetype": "text/x-python",
   "name": "python",
   "nbconvert_exporter": "python",
   "pygments_lexer": "ipython3",
   "version": "3.9.5"
  },
  "orig_nbformat": 4
 },
 "nbformat": 4,
 "nbformat_minor": 2
}